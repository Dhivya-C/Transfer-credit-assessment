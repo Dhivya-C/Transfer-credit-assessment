{
  "nbformat": 4,
  "nbformat_minor": 0,
  "metadata": {
    "colab": {
      "name": "Benchmark_dataset_complexity_analysis.ipynb",
      "provenance": []
    },
    "kernelspec": {
      "name": "python3",
      "display_name": "Python 3"
    }
  },
  "cells": [
    {
      "cell_type": "code",
      "metadata": {
        "id": "oowjogv4gjm0",
        "colab": {
          "base_uri": "https://localhost:8080/"
        },
        "outputId": "aa8b6687-0109-4dd6-dceb-658216392f75"
      },
      "source": [
        "!pip install textstat"
      ],
      "execution_count": 1,
      "outputs": [
        {
          "output_type": "stream",
          "text": [
            "Collecting textstat\n",
            "\u001b[?25l  Downloading https://files.pythonhosted.org/packages/ca/b1/ab40a00b727a0d209402d1be6aa3f1bc75bd03678b59ace8507b08bf12f5/textstat-0.7.0-py3-none-any.whl (99kB)\n",
            "\r\u001b[K     |███▎                            | 10kB 18.4MB/s eta 0:00:01\r\u001b[K     |██████▋                         | 20kB 10.1MB/s eta 0:00:01\r\u001b[K     |█████████▉                      | 30kB 7.7MB/s eta 0:00:01\r\u001b[K     |█████████████▏                  | 40kB 6.9MB/s eta 0:00:01\r\u001b[K     |████████████████▍               | 51kB 4.4MB/s eta 0:00:01\r\u001b[K     |███████████████████▊            | 61kB 5.0MB/s eta 0:00:01\r\u001b[K     |███████████████████████         | 71kB 4.9MB/s eta 0:00:01\r\u001b[K     |██████████████████████████▎     | 81kB 5.4MB/s eta 0:00:01\r\u001b[K     |█████████████████████████████▋  | 92kB 5.7MB/s eta 0:00:01\r\u001b[K     |████████████████████████████████| 102kB 3.9MB/s \n",
            "\u001b[?25hCollecting pyphen\n",
            "\u001b[?25l  Downloading https://files.pythonhosted.org/packages/7c/5a/5bc036e01389bc6a6667a932bac3e388de6e7fa5777a6ff50e652f60ec79/Pyphen-0.10.0-py3-none-any.whl (1.9MB)\n",
            "\u001b[K     |████████████████████████████████| 1.9MB 7.2MB/s \n",
            "\u001b[?25hInstalling collected packages: pyphen, textstat\n",
            "Successfully installed pyphen-0.10.0 textstat-0.7.0\n"
          ],
          "name": "stdout"
        }
      ]
    },
    {
      "cell_type": "code",
      "metadata": {
        "id": "WCY43G7Vjo6s",
        "colab": {
          "base_uri": "https://localhost:8080/"
        },
        "outputId": "171c79b6-8278-44ca-d283-96ba1e30a55c"
      },
      "source": [
        "import nltk\n",
        "nltk.download('punkt')\n",
        "import re\n",
        "import textstat as ts\n",
        "from nltk.tokenize import sent_tokenize\n",
        "import pandas as pd\n",
        "import numpy as np"
      ],
      "execution_count": 2,
      "outputs": [
        {
          "output_type": "stream",
          "text": [
            "[nltk_data] Downloading package punkt to /root/nltk_data...\n",
            "[nltk_data]   Unzipping tokenizers/punkt.zip.\n"
          ],
          "name": "stdout"
        }
      ]
    },
    {
      "cell_type": "code",
      "metadata": {
        "id": "8PliLxR_jt1m"
      },
      "source": [
        "df = pd.read_csv('/content/drive/MyDrive/lo_list.csv')"
      ],
      "execution_count": 6,
      "outputs": []
    },
    {
      "cell_type": "code",
      "metadata": {
        "id": "fTMJHASI8pkR",
        "colab": {
          "base_uri": "https://localhost:8080/",
          "height": 195
        },
        "outputId": "f3c5b28b-2c44-4f55-9861-dfafa1c1c5d3"
      },
      "source": [
        "df.head()"
      ],
      "execution_count": 7,
      "outputs": [
        {
          "output_type": "execute_result",
          "data": {
            "text/html": [
              "<div>\n",
              "<style scoped>\n",
              "    .dataframe tbody tr th:only-of-type {\n",
              "        vertical-align: middle;\n",
              "    }\n",
              "\n",
              "    .dataframe tbody tr th {\n",
              "        vertical-align: top;\n",
              "    }\n",
              "\n",
              "    .dataframe thead th {\n",
              "        text-align: right;\n",
              "    }\n",
              "</style>\n",
              "<table border=\"1\" class=\"dataframe\">\n",
              "  <thead>\n",
              "    <tr style=\"text-align: right;\">\n",
              "      <th></th>\n",
              "      <th>lo_list</th>\n",
              "    </tr>\n",
              "  </thead>\n",
              "  <tbody>\n",
              "    <tr>\n",
              "      <th>0</th>\n",
              "      <td>Explain machine learning and pattern recogniti...</td>\n",
              "    </tr>\n",
              "    <tr>\n",
              "      <th>1</th>\n",
              "      <td>Define methods for solving classification, clu...</td>\n",
              "    </tr>\n",
              "    <tr>\n",
              "      <th>2</th>\n",
              "      <td>Solve practical classification, clustering, re...</td>\n",
              "    </tr>\n",
              "    <tr>\n",
              "      <th>3</th>\n",
              "      <td>Write coherently, concisely, and clearly in a ...</td>\n",
              "    </tr>\n",
              "    <tr>\n",
              "      <th>4</th>\n",
              "      <td>Explain the societal, legal, and ethical impli...</td>\n",
              "    </tr>\n",
              "  </tbody>\n",
              "</table>\n",
              "</div>"
            ],
            "text/plain": [
              "                                             lo_list\n",
              "0  Explain machine learning and pattern recogniti...\n",
              "1  Define methods for solving classification, clu...\n",
              "2  Solve practical classification, clustering, re...\n",
              "3  Write coherently, concisely, and clearly in a ...\n",
              "4  Explain the societal, legal, and ethical impli..."
            ]
          },
          "metadata": {
            "tags": []
          },
          "execution_count": 7
        }
      ]
    },
    {
      "cell_type": "code",
      "metadata": {
        "id": "a2G3fzVVpvpG"
      },
      "source": [
        "dataset_list =  df['lo_list'].tolist()\n",
        "unique_sentences = list(set(dataset_list))"
      ],
      "execution_count": 8,
      "outputs": []
    },
    {
      "cell_type": "code",
      "metadata": {
        "colab": {
          "base_uri": "https://localhost:8080/"
        },
        "id": "96F_HlPYHMRB",
        "outputId": "dcbe8832-2304-450c-e831-e0dd98dfa373"
      },
      "source": [
        "len(unique_sentences)"
      ],
      "execution_count": 10,
      "outputs": [
        {
          "output_type": "execute_result",
          "data": {
            "text/plain": [
              "82"
            ]
          },
          "metadata": {
            "tags": []
          },
          "execution_count": 10
        }
      ]
    },
    {
      "cell_type": "code",
      "metadata": {
        "id": "1VOfY80rhAu3",
        "colab": {
          "base_uri": "https://localhost:8080/",
          "height": 35
        },
        "outputId": "d662d39a-49af-49a1-9a62-1e7e1ed9e9c7"
      },
      "source": [
        "import re\n",
        "\n",
        "for i in range(len(unique_sentences)):\n",
        "  unique_sentences[i] = re.sub('[^a-zA-Z]', ' ', unique_sentences[i])\n",
        "unique_sentences[0]"
      ],
      "execution_count": 11,
      "outputs": [
        {
          "output_type": "execute_result",
          "data": {
            "application/vnd.google.colaboratory.intrinsic+json": {
              "type": "string"
            },
            "text/plain": [
              "'Relate game development methodologies to other application areas of Computer Science'"
            ]
          },
          "metadata": {
            "tags": []
          },
          "execution_count": 11
        }
      ]
    },
    {
      "cell_type": "code",
      "metadata": {
        "id": "BS9A2SlwxILz"
      },
      "source": [
        "value_list = []\n",
        "for s in unique_sentences:\n",
        "    tempList =[]\n",
        "    tempList.append(s)\n",
        "    tempList.append(ts.char_count(s))\n",
        "    tempList.append(ts.flesch_kincaid_grade(s))\n",
        "    tempList.append(ts.coleman_liau_index(s))\n",
        "    tempList.append(ts.automated_readability_index(s))\n",
        "    tempList.append(ts.linsear_write_formula(s))\n",
        "    tempList.append(ts.gunning_fog(s))\n",
        "    tempList.append(ts.text_standard(s,float_output=True))\n",
        "    value_list.append(tempList)"
      ],
      "execution_count": 12,
      "outputs": []
    },
    {
      "cell_type": "code",
      "metadata": {
        "id": "wOE3mUIrsB0P"
      },
      "source": [
        "column_headers = ['Sentence','No of characters','Flesch_Kincaid_Grade','Coleman_Liau_Index','Automated_readability_index','Linsear_Write','Gunning_Fog','Aggr_score']"
      ],
      "execution_count": 13,
      "outputs": []
    },
    {
      "cell_type": "code",
      "metadata": {
        "id": "5xhGQPzRrTPb",
        "colab": {
          "base_uri": "https://localhost:8080/",
          "height": 397
        },
        "outputId": "3b4340b1-af6d-41ae-e2cc-e925cc10eadc"
      },
      "source": [
        "metrics_df = pd.DataFrame(value_list,columns=column_headers)\n",
        "metrics_df.head()"
      ],
      "execution_count": 14,
      "outputs": [
        {
          "output_type": "execute_result",
          "data": {
            "text/html": [
              "<div>\n",
              "<style scoped>\n",
              "    .dataframe tbody tr th:only-of-type {\n",
              "        vertical-align: middle;\n",
              "    }\n",
              "\n",
              "    .dataframe tbody tr th {\n",
              "        vertical-align: top;\n",
              "    }\n",
              "\n",
              "    .dataframe thead th {\n",
              "        text-align: right;\n",
              "    }\n",
              "</style>\n",
              "<table border=\"1\" class=\"dataframe\">\n",
              "  <thead>\n",
              "    <tr style=\"text-align: right;\">\n",
              "      <th></th>\n",
              "      <th>Sentence</th>\n",
              "      <th>No of characters</th>\n",
              "      <th>Flesch_Kincaid_Grade</th>\n",
              "      <th>Coleman_Liau_Index</th>\n",
              "      <th>Automated_readability_index</th>\n",
              "      <th>Linsear_Write</th>\n",
              "      <th>Gunning_Fog</th>\n",
              "      <th>Aggr_score</th>\n",
              "    </tr>\n",
              "  </thead>\n",
              "  <tbody>\n",
              "    <tr>\n",
              "      <th>0</th>\n",
              "      <td>Relate game development methodologies to other...</td>\n",
              "      <td>74</td>\n",
              "      <td>15.8</td>\n",
              "      <td>20.57</td>\n",
              "      <td>15.8</td>\n",
              "      <td>8.5</td>\n",
              "      <td>18.95</td>\n",
              "      <td>16.0</td>\n",
              "    </tr>\n",
              "    <tr>\n",
              "      <th>1</th>\n",
              "      <td>Understand the foundations of the Bayesian app...</td>\n",
              "      <td>62</td>\n",
              "      <td>9.6</td>\n",
              "      <td>17.20</td>\n",
              "      <td>12.8</td>\n",
              "      <td>6.0</td>\n",
              "      <td>8.00</td>\n",
              "      <td>10.0</td>\n",
              "    </tr>\n",
              "    <tr>\n",
              "      <th>2</th>\n",
              "      <td>Locate  review  and employ relevant techniques...</td>\n",
              "      <td>52</td>\n",
              "      <td>15.9</td>\n",
              "      <td>18.05</td>\n",
              "      <td>13.2</td>\n",
              "      <td>5.0</td>\n",
              "      <td>13.20</td>\n",
              "      <td>14.0</td>\n",
              "    </tr>\n",
              "    <tr>\n",
              "      <th>3</th>\n",
              "      <td>Explain what is meant by an efficient algorithm</td>\n",
              "      <td>40</td>\n",
              "      <td>6.4</td>\n",
              "      <td>9.35</td>\n",
              "      <td>6.1</td>\n",
              "      <td>5.0</td>\n",
              "      <td>13.20</td>\n",
              "      <td>8.0</td>\n",
              "    </tr>\n",
              "    <tr>\n",
              "      <th>4</th>\n",
              "      <td>Explain the distinction between deductive  ind...</td>\n",
              "      <td>79</td>\n",
              "      <td>22.5</td>\n",
              "      <td>27.06</td>\n",
              "      <td>20.8</td>\n",
              "      <td>11.0</td>\n",
              "      <td>28.00</td>\n",
              "      <td>28.0</td>\n",
              "    </tr>\n",
              "  </tbody>\n",
              "</table>\n",
              "</div>"
            ],
            "text/plain": [
              "                                            Sentence  ...  Aggr_score\n",
              "0  Relate game development methodologies to other...  ...        16.0\n",
              "1  Understand the foundations of the Bayesian app...  ...        10.0\n",
              "2  Locate  review  and employ relevant techniques...  ...        14.0\n",
              "3    Explain what is meant by an efficient algorithm  ...         8.0\n",
              "4  Explain the distinction between deductive  ind...  ...        28.0\n",
              "\n",
              "[5 rows x 8 columns]"
            ]
          },
          "metadata": {
            "tags": []
          },
          "execution_count": 14
        }
      ]
    },
    {
      "cell_type": "code",
      "metadata": {
        "id": "jvxT4wqZHrzS"
      },
      "source": [
        "des = metrics_df.describe()"
      ],
      "execution_count": 19,
      "outputs": []
    },
    {
      "cell_type": "code",
      "metadata": {
        "id": "b-aCEzGNOMSa"
      },
      "source": [
        "import matplotlib\n",
        "import matplotlib.pyplot as plt\n",
        "\n",
        "labels = ['Flesch_Kincaid_Grade','Coleman_Liau_Index','Automated_readability_index','Linsear_Write','Gunning_Fog','Aggr_score']\n"
      ],
      "execution_count": 24,
      "outputs": []
    },
    {
      "cell_type": "code",
      "metadata": {
        "id": "0fZ3GsrgIWW4"
      },
      "source": [
        "des_list = des.values.tolist()"
      ],
      "execution_count": 21,
      "outputs": []
    },
    {
      "cell_type": "code",
      "metadata": {
        "id": "8n8cmyoMIwOS"
      },
      "source": [
        "mean_list = des_list[1][1:7]"
      ],
      "execution_count": 22,
      "outputs": []
    },
    {
      "cell_type": "code",
      "metadata": {
        "id": "FcTjo9FTQkdi",
        "colab": {
          "base_uri": "https://localhost:8080/",
          "height": 634
        },
        "outputId": "b00cad54-b4ab-4b34-f4bd-189e543894e3"
      },
      "source": [
        "x = np.arange(len(labels))  # the label locations\n",
        "plt.figure(figsize=(10,8))\n",
        "plt.scatter(x,mean_list); plt.ylim(0,20)\n",
        "# fig, ax = plt.subplots(figsize=(15,5))\n",
        "# rects1 = ax.scatter(x, mean_list, label='DSCS')\n",
        "\n",
        "\n",
        "# # Add some text for labels, title and custom x-axis tick labels, etc.\n",
        "plt.ylabel('Grades')\n",
        "plt.title('Mean value comparison of Reability Indices')\n",
        "plt.xticks(x,labels,rotation=45)\n",
        "plt.legend()"
      ],
      "execution_count": 43,
      "outputs": [
        {
          "output_type": "stream",
          "text": [
            "No handles with labels found to put in legend.\n"
          ],
          "name": "stderr"
        },
        {
          "output_type": "execute_result",
          "data": {
            "text/plain": [
              "<matplotlib.legend.Legend at 0x7f1f059296d8>"
            ]
          },
          "metadata": {
            "tags": []
          },
          "execution_count": 43
        },
        {
          "output_type": "display_data",
          "data": {
            "image/png": "[encoded data removed]",
            "text/plain": [
              "<Figure size 720x576 with 1 Axes>"
            ]
          },
          "metadata": {
            "tags": [],
            "needs_background": "light"
          }
        }
      ]
    },
    {
      "cell_type": "code",
      "metadata": {
        "id": "jJ5U7TygJiCy"
      },
      "source": [
        ""
      ],
      "execution_count": null,
      "outputs": []
    }
  ]
}