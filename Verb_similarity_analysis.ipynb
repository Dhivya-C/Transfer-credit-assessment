{
  "nbformat": 4,
  "nbformat_minor": 0,
  "metadata": {
    "colab": {
      "name": "Verb_similarity_analysis.ipynb",
      "provenance": []
    },
    "kernelspec": {
      "name": "python3",
      "display_name": "Python 3"
    }
  },
  "cells": [
    {
      "cell_type": "code",
      "metadata": {
        "colab": {
          "base_uri": "https://localhost:8080/"
        },
        "id": "SeWDGr1bgRic",
        "outputId": "c00e2073-068b-4fe3-c747-be9513e90cf8"
      },
      "source": [
        "import pandas as pd\n",
        "import numpy as np\n",
        "import nltk\n",
        "from nltk.corpus import wordnet as wn\n",
        "nltk.download('wordnet')\n",
        "import scipy"
      ],
      "execution_count": null,
      "outputs": [
        {
          "output_type": "stream",
          "text": [
            "[nltk_data] Downloading package wordnet to /root/nltk_data...\n",
            "[nltk_data]   Unzipping corpora/wordnet.zip.\n"
          ],
          "name": "stdout"
        }
      ]
    },
    {
      "cell_type": "code",
      "metadata": {
        "colab": {
          "base_uri": "https://localhost:8080/",
          "height": 195
        },
        "id": "QSMS1bOZf-iq",
        "outputId": "a573a5c0-2a2c-4237-a394-a2826786bf12"
      },
      "source": [
        "df = pd.read_csv('/content/drive/My Drive/simverb-3500-data/data/SimVerb-3500.txt',sep='\\t',names=['verb_1','verb_2','POS','Similarity','info'])\n",
        "df = df[['verb_1','verb_2','Similarity']]\n",
        "df.head()"
      ],
      "execution_count": null,
      "outputs": [
        {
          "output_type": "execute_result",
          "data": {
            "text/html": [
              "<div>\n",
              "<style scoped>\n",
              "    .dataframe tbody tr th:only-of-type {\n",
              "        vertical-align: middle;\n",
              "    }\n",
              "\n",
              "    .dataframe tbody tr th {\n",
              "        vertical-align: top;\n",
              "    }\n",
              "\n",
              "    .dataframe thead th {\n",
              "        text-align: right;\n",
              "    }\n",
              "</style>\n",
              "<table border=\"1\" class=\"dataframe\">\n",
              "  <thead>\n",
              "    <tr style=\"text-align: right;\">\n",
              "      <th></th>\n",
              "      <th>verb_1</th>\n",
              "      <th>verb_2</th>\n",
              "      <th>Similarity</th>\n",
              "    </tr>\n",
              "  </thead>\n",
              "  <tbody>\n",
              "    <tr>\n",
              "      <th>0</th>\n",
              "      <td>take</td>\n",
              "      <td>remove</td>\n",
              "      <td>6.81</td>\n",
              "    </tr>\n",
              "    <tr>\n",
              "      <th>1</th>\n",
              "      <td>walk</td>\n",
              "      <td>trail</td>\n",
              "      <td>4.81</td>\n",
              "    </tr>\n",
              "    <tr>\n",
              "      <th>2</th>\n",
              "      <td>feed</td>\n",
              "      <td>starve</td>\n",
              "      <td>1.49</td>\n",
              "    </tr>\n",
              "    <tr>\n",
              "      <th>3</th>\n",
              "      <td>shine</td>\n",
              "      <td>polish</td>\n",
              "      <td>7.80</td>\n",
              "    </tr>\n",
              "    <tr>\n",
              "      <th>4</th>\n",
              "      <td>calculate</td>\n",
              "      <td>add</td>\n",
              "      <td>5.98</td>\n",
              "    </tr>\n",
              "  </tbody>\n",
              "</table>\n",
              "</div>"
            ],
            "text/plain": [
              "      verb_1  verb_2  Similarity\n",
              "0       take  remove        6.81\n",
              "1       walk   trail        4.81\n",
              "2       feed  starve        1.49\n",
              "3      shine  polish        7.80\n",
              "4  calculate     add        5.98"
            ]
          },
          "metadata": {
            "tags": []
          },
          "execution_count": 2
        }
      ]
    },
    {
      "cell_type": "code",
      "metadata": {
        "id": "iHFh6n0qHU9N"
      },
      "source": [
        "def fix_range(scores,low,high):\n",
        "    new_scores = []\n",
        "    #print(scores)\n",
        "    minimum = min(scores)\n",
        "    maximum = max(scores)\n",
        "    dif = maximum - minimum\n",
        "    ran = high - low\n",
        "    for i in range(len(scores)):\n",
        "        new_val = np.round(low + ((scores[i]-minimum)*ran/dif),2)\n",
        "        new_scores.append(new_val)\n",
        "    return new_scores"
      ],
      "execution_count": null,
      "outputs": []
    },
    {
      "cell_type": "code",
      "metadata": {
        "id": "SMIIrZMBdJ_e"
      },
      "source": [
        "from gensim.models import Word2Vec\n",
        "from gensim.models import KeyedVectors\n",
        "word2vec_pretrained = KeyedVectors.load_word2vec_format(\"/content/drive/My Drive/GoogleNews-vectors-negative300.bin\", binary=True)"
      ],
      "execution_count": null,
      "outputs": []
    },
    {
      "cell_type": "code",
      "metadata": {
        "id": "EWH3L1wgxEvE"
      },
      "source": [
        "from gensim.models import KeyedVectors\n",
        "filename = '/content/drive/My Drive/glove.6B.300d.txt.word2vec'\n",
        "glove = KeyedVectors.load_word2vec_format(filename, binary=False)"
      ],
      "execution_count": null,
      "outputs": []
    },
    {
      "cell_type": "code",
      "metadata": {
        "id": "zagP61zzgKHo"
      },
      "source": [
        "def verb_similarity(v1,v2):\n",
        "    sim1 = []\n",
        "    sim2 = []\n",
        "    sim3 = []\n",
        "    synset1 = wn.synsets(v1,pos='v')\n",
        "    synset2 = wn.synsets(v2,pos='v')\n",
        "    word2vec_sim = word2vec_pretrained.wv.similarity(v1,v2)\n",
        "    try:\n",
        "        glove_sim = glove.wv.similarity(v1,v2)\n",
        "    except KeyError:\n",
        "        glove_sim = 0\n",
        "    w1 = synset1[0]\n",
        "    w2 = synset2[0]\n",
        "    wup_sim = w1.wup_similarity(w2)\n",
        "    path_sim = w1.path_similarity(w2)\n",
        "    lch_sim = w1.lch_similarity(w2)\n",
        "    for syn1 in synset1:\n",
        "          for syn2 in synset2:\n",
        "              sim1.append(syn1.wup_similarity(syn2))              \n",
        "              sim2.append(syn1.path_similarity(syn2))\n",
        "              sim3.append(syn1.lch_similarity(syn2))          \n",
        "    wup_max_sim = max(sim1)\n",
        "    path_max_sim = max(sim2)\n",
        "    lch_max_sim = max(sim3)\n",
        "    sim_list = [wup_sim,path_sim,lch_sim,wup_max_sim,path_max_sim,lch_max_sim,word2vec_sim,glove_sim]\n",
        "    return sim_list "
      ],
      "execution_count": null,
      "outputs": []
    },
    {
      "cell_type": "code",
      "metadata": {
        "colab": {
          "base_uri": "https://localhost:8080/"
        },
        "id": "0elI7O_SkytS",
        "outputId": "3f33b748-18c6-4c6a-bab7-0b70632e207f"
      },
      "source": [
        "result = [verb_similarity(x, y) for x, y in zip(df['verb_1'], df['verb_2'])]"
      ],
      "execution_count": null,
      "outputs": [
        {
          "output_type": "stream",
          "text": [
            "/usr/local/lib/python3.6/dist-packages/ipykernel_launcher.py:7: DeprecationWarning: Call to deprecated `wv` (Attribute will be removed in 4.0.0, use self instead).\n",
            "  import sys\n",
            "/usr/local/lib/python3.6/dist-packages/gensim/matutils.py:737: FutureWarning: Conversion of the second argument of issubdtype from `int` to `np.signedinteger` is deprecated. In future, it will be treated as `np.int64 == np.dtype(int).type`.\n",
            "  if np.issubdtype(vec.dtype, np.int):\n",
            "/usr/local/lib/python3.6/dist-packages/ipykernel_launcher.py:9: DeprecationWarning: Call to deprecated `wv` (Attribute will be removed in 4.0.0, use self instead).\n",
            "  if __name__ == '__main__':\n"
          ],
          "name": "stderr"
        }
      ]
    },
    {
      "cell_type": "code",
      "metadata": {
        "id": "DbWoxQ-yk44R"
      },
      "source": [
        "headers = ['wup_sim','path_sim','lch_sim','wup_max_sim','path_max_sim','lch_max_sim','word2vec_sim','glove_sim']"
      ],
      "execution_count": null,
      "outputs": []
    },
    {
      "cell_type": "code",
      "metadata": {
        "id": "If1EqhlVuJQW"
      },
      "source": [
        "result_df = pd.DataFrame(result,columns=headers)"
      ],
      "execution_count": null,
      "outputs": []
    },
    {
      "cell_type": "code",
      "metadata": {
        "colab": {
          "base_uri": "https://localhost:8080/",
          "height": 402
        },
        "id": "3tcTllyn3AiP",
        "outputId": "ddfe582e-10d8-435a-b001-b26d3f01aaff"
      },
      "source": [
        "result_df"
      ],
      "execution_count": null,
      "outputs": [
        {
          "output_type": "execute_result",
          "data": {
            "text/html": [
              "<div>\n",
              "<style scoped>\n",
              "    .dataframe tbody tr th:only-of-type {\n",
              "        vertical-align: middle;\n",
              "    }\n",
              "\n",
              "    .dataframe tbody tr th {\n",
              "        vertical-align: top;\n",
              "    }\n",
              "\n",
              "    .dataframe thead th {\n",
              "        text-align: right;\n",
              "    }\n",
              "</style>\n",
              "<table border=\"1\" class=\"dataframe\">\n",
              "  <thead>\n",
              "    <tr style=\"text-align: right;\">\n",
              "      <th></th>\n",
              "      <th>wup_sim</th>\n",
              "      <th>path_sim</th>\n",
              "      <th>lch_sim</th>\n",
              "      <th>wup_max_sim</th>\n",
              "      <th>path_max_sim</th>\n",
              "      <th>lch_max_sim</th>\n",
              "      <th>word2vec_sim</th>\n",
              "      <th>glove_sim</th>\n",
              "    </tr>\n",
              "  </thead>\n",
              "  <tbody>\n",
              "    <tr>\n",
              "      <th>0</th>\n",
              "      <td>0.400000</td>\n",
              "      <td>0.250000</td>\n",
              "      <td>1.871802</td>\n",
              "      <td>1.000000</td>\n",
              "      <td>1.000000</td>\n",
              "      <td>3.258097</td>\n",
              "      <td>0.293123</td>\n",
              "      <td>0.356702</td>\n",
              "    </tr>\n",
              "    <tr>\n",
              "      <th>1</th>\n",
              "      <td>0.250000</td>\n",
              "      <td>0.200000</td>\n",
              "      <td>1.648659</td>\n",
              "      <td>0.400000</td>\n",
              "      <td>0.333333</td>\n",
              "      <td>2.159484</td>\n",
              "      <td>0.246943</td>\n",
              "      <td>0.351702</td>\n",
              "    </tr>\n",
              "    <tr>\n",
              "      <th>2</th>\n",
              "      <td>0.222222</td>\n",
              "      <td>0.125000</td>\n",
              "      <td>1.178655</td>\n",
              "      <td>0.333333</td>\n",
              "      <td>0.200000</td>\n",
              "      <td>1.648659</td>\n",
              "      <td>0.464113</td>\n",
              "      <td>0.312260</td>\n",
              "    </tr>\n",
              "    <tr>\n",
              "      <th>3</th>\n",
              "      <td>0.250000</td>\n",
              "      <td>0.142857</td>\n",
              "      <td>1.312186</td>\n",
              "      <td>1.000000</td>\n",
              "      <td>1.000000</td>\n",
              "      <td>3.258097</td>\n",
              "      <td>0.437054</td>\n",
              "      <td>0.059131</td>\n",
              "    </tr>\n",
              "    <tr>\n",
              "      <th>4</th>\n",
              "      <td>0.222222</td>\n",
              "      <td>0.125000</td>\n",
              "      <td>1.178655</td>\n",
              "      <td>0.857143</td>\n",
              "      <td>0.500000</td>\n",
              "      <td>2.564949</td>\n",
              "      <td>0.254452</td>\n",
              "      <td>0.152029</td>\n",
              "    </tr>\n",
              "    <tr>\n",
              "      <th>...</th>\n",
              "      <td>...</td>\n",
              "      <td>...</td>\n",
              "      <td>...</td>\n",
              "      <td>...</td>\n",
              "      <td>...</td>\n",
              "      <td>...</td>\n",
              "      <td>...</td>\n",
              "      <td>...</td>\n",
              "    </tr>\n",
              "    <tr>\n",
              "      <th>3495</th>\n",
              "      <td>0.181818</td>\n",
              "      <td>0.100000</td>\n",
              "      <td>0.955511</td>\n",
              "      <td>0.400000</td>\n",
              "      <td>0.142857</td>\n",
              "      <td>1.312186</td>\n",
              "      <td>0.228921</td>\n",
              "      <td>0.122216</td>\n",
              "    </tr>\n",
              "    <tr>\n",
              "      <th>3496</th>\n",
              "      <td>0.166667</td>\n",
              "      <td>0.090909</td>\n",
              "      <td>0.860201</td>\n",
              "      <td>0.933333</td>\n",
              "      <td>0.500000</td>\n",
              "      <td>2.564949</td>\n",
              "      <td>0.192815</td>\n",
              "      <td>0.278167</td>\n",
              "    </tr>\n",
              "    <tr>\n",
              "      <th>3497</th>\n",
              "      <td>0.250000</td>\n",
              "      <td>0.142857</td>\n",
              "      <td>1.312186</td>\n",
              "      <td>0.285714</td>\n",
              "      <td>0.166667</td>\n",
              "      <td>1.466337</td>\n",
              "      <td>0.219344</td>\n",
              "      <td>0.325587</td>\n",
              "    </tr>\n",
              "    <tr>\n",
              "      <th>3498</th>\n",
              "      <td>0.250000</td>\n",
              "      <td>0.142857</td>\n",
              "      <td>1.312186</td>\n",
              "      <td>0.285714</td>\n",
              "      <td>0.166667</td>\n",
              "      <td>1.466337</td>\n",
              "      <td>0.105011</td>\n",
              "      <td>-0.024572</td>\n",
              "    </tr>\n",
              "    <tr>\n",
              "      <th>3499</th>\n",
              "      <td>0.400000</td>\n",
              "      <td>0.250000</td>\n",
              "      <td>1.871802</td>\n",
              "      <td>0.400000</td>\n",
              "      <td>0.250000</td>\n",
              "      <td>1.871802</td>\n",
              "      <td>0.067279</td>\n",
              "      <td>0.322197</td>\n",
              "    </tr>\n",
              "  </tbody>\n",
              "</table>\n",
              "<p>3500 rows × 8 columns</p>\n",
              "</div>"
            ],
            "text/plain": [
              "       wup_sim  path_sim   lch_sim  ...  lch_max_sim  word2vec_sim  glove_sim\n",
              "0     0.400000  0.250000  1.871802  ...     3.258097      0.293123   0.356702\n",
              "1     0.250000  0.200000  1.648659  ...     2.159484      0.246943   0.351702\n",
              "2     0.222222  0.125000  1.178655  ...     1.648659      0.464113   0.312260\n",
              "3     0.250000  0.142857  1.312186  ...     3.258097      0.437054   0.059131\n",
              "4     0.222222  0.125000  1.178655  ...     2.564949      0.254452   0.152029\n",
              "...        ...       ...       ...  ...          ...           ...        ...\n",
              "3495  0.181818  0.100000  0.955511  ...     1.312186      0.228921   0.122216\n",
              "3496  0.166667  0.090909  0.860201  ...     2.564949      0.192815   0.278167\n",
              "3497  0.250000  0.142857  1.312186  ...     1.466337      0.219344   0.325587\n",
              "3498  0.250000  0.142857  1.312186  ...     1.466337      0.105011  -0.024572\n",
              "3499  0.400000  0.250000  1.871802  ...     1.871802      0.067279   0.322197\n",
              "\n",
              "[3500 rows x 8 columns]"
            ]
          },
          "metadata": {
            "tags": []
          },
          "execution_count": 10
        }
      ]
    },
    {
      "cell_type": "code",
      "metadata": {
        "id": "VJyfcGUOHSsw"
      },
      "source": [
        "human_annotation = df['Similarity'].tolist()\n",
        "scaled_sim = fix_range(human_annotation,0,1)"
      ],
      "execution_count": null,
      "outputs": []
    },
    {
      "cell_type": "code",
      "metadata": {
        "id": "Lh6vq3oI3BY0"
      },
      "source": [
        "wup_list = result_df['wup_sim'].tolist()\n",
        "path_list = result_df['path_sim'].tolist()\n",
        "lch_list = result_df['lch_sim'].tolist()\n",
        "wup_max_list = result_df['wup_max_sim'].tolist()\n",
        "path_max_list = result_df['path_max_sim'].tolist()\n",
        "lch_max_list = result_df['lch_max_sim'].tolist()\n",
        "word2vec_list = result_df['word2vec_sim'].tolist()\n",
        "glove_list = result_df['glove_sim'].tolist()"
      ],
      "execution_count": null,
      "outputs": []
    },
    {
      "cell_type": "code",
      "metadata": {
        "id": "Ci1rHENMFplE"
      },
      "source": [
        "wup_correlation = scipy.stats.pearsonr(scaled_sim, wup_list)\n",
        "path_correlation = scipy.stats.pearsonr(scaled_sim, path_list)\n",
        "lch_correlation = scipy.stats.pearsonr(scaled_sim, lch_list)\n",
        "wup_max_correlation = scipy.stats.pearsonr(scaled_sim, wup_max_list)\n",
        "path_max_correlation = scipy.stats.pearsonr(scaled_sim, path_max_list)\n",
        "lch_max_correlation = scipy.stats.pearsonr(scaled_sim, lch_max_list)\n",
        "word2vec_correlation = scipy.stats.pearsonr(scaled_sim,word2vec_list)\n",
        "glove_correlation = scipy.stats.pearsonr(scaled_sim,glove_list)"
      ],
      "execution_count": null,
      "outputs": []
    },
    {
      "cell_type": "code",
      "metadata": {
        "colab": {
          "base_uri": "https://localhost:8080/"
        },
        "id": "_k5kQ3EsHMpR",
        "outputId": "639663e9-2b5d-4dd0-e63f-b5eb9bc6faee"
      },
      "source": [
        "print(\"wup correlation %.2f\" % wup_correlation[0], \"\\npath_correlation %.2f \" % path_correlation[0],\n",
        "      \"\\nlch correlation %.2f\" % lch_correlation[0], \"\\nwup_max_correaltion %.2f \" % wup_max_correlation[0],\n",
        "      \"\\npath_max_correlation %.2f \" % path_max_correlation[0], \"\\nlch_max_correlation %.2f\" % lch_max_correlation[0],\n",
        "      \"\\nword2vec_correlation %.2f\" % word2vec_correlation[0], \"\\nglove_correlation %.2f\" % glove_correlation[0])"
      ],
      "execution_count": null,
      "outputs": [
        {
          "output_type": "stream",
          "text": [
            "wup correlation 0.28 \n",
            "path_correlation 0.28  \n",
            "lch correlation 0.23 \n",
            "wup_max_correaltion 0.48  \n",
            "path_max_correlation 0.46  \n",
            "lch_max_correlation 0.46 \n",
            "word2vec_correlation 0.38 \n",
            "glove_correlation 0.23\n"
          ],
          "name": "stdout"
        }
      ]
    },
    {
      "cell_type": "code",
      "metadata": {
        "id": "t3-iqXX8zLTY"
      },
      "source": [
        "df['scaled_sim'] = scaled_sim\n",
        "verb_similarity_comp = pd.concat([df, result_df], axis=1, sort=False)"
      ],
      "execution_count": null,
      "outputs": []
    },
    {
      "cell_type": "code",
      "metadata": {
        "colab": {
          "base_uri": "https://localhost:8080/",
          "height": 402
        },
        "id": "0f6O69VzzptH",
        "outputId": "067b0cc8-3610-43ec-c3a0-e6a5a85d6997"
      },
      "source": [
        "verb_similarity_comp"
      ],
      "execution_count": null,
      "outputs": [
        {
          "output_type": "execute_result",
          "data": {
            "text/html": [
              "<div>\n",
              "<style scoped>\n",
              "    .dataframe tbody tr th:only-of-type {\n",
              "        vertical-align: middle;\n",
              "    }\n",
              "\n",
              "    .dataframe tbody tr th {\n",
              "        vertical-align: top;\n",
              "    }\n",
              "\n",
              "    .dataframe thead th {\n",
              "        text-align: right;\n",
              "    }\n",
              "</style>\n",
              "<table border=\"1\" class=\"dataframe\">\n",
              "  <thead>\n",
              "    <tr style=\"text-align: right;\">\n",
              "      <th></th>\n",
              "      <th>verb_1</th>\n",
              "      <th>verb_2</th>\n",
              "      <th>Similarity</th>\n",
              "      <th>scaled_sim</th>\n",
              "      <th>wup_sim</th>\n",
              "      <th>path_sim</th>\n",
              "      <th>lch_sim</th>\n",
              "      <th>wup_max_sim</th>\n",
              "      <th>path_max_sim</th>\n",
              "      <th>lch_max_sim</th>\n",
              "      <th>word2vec_sim</th>\n",
              "      <th>glove_sim</th>\n",
              "    </tr>\n",
              "  </thead>\n",
              "  <tbody>\n",
              "    <tr>\n",
              "      <th>0</th>\n",
              "      <td>take</td>\n",
              "      <td>remove</td>\n",
              "      <td>6.81</td>\n",
              "      <td>0.68</td>\n",
              "      <td>0.400000</td>\n",
              "      <td>0.250000</td>\n",
              "      <td>1.871802</td>\n",
              "      <td>1.000000</td>\n",
              "      <td>1.000000</td>\n",
              "      <td>3.258097</td>\n",
              "      <td>0.293123</td>\n",
              "      <td>0.356702</td>\n",
              "    </tr>\n",
              "    <tr>\n",
              "      <th>1</th>\n",
              "      <td>walk</td>\n",
              "      <td>trail</td>\n",
              "      <td>4.81</td>\n",
              "      <td>0.48</td>\n",
              "      <td>0.250000</td>\n",
              "      <td>0.200000</td>\n",
              "      <td>1.648659</td>\n",
              "      <td>0.400000</td>\n",
              "      <td>0.333333</td>\n",
              "      <td>2.159484</td>\n",
              "      <td>0.246943</td>\n",
              "      <td>0.351702</td>\n",
              "    </tr>\n",
              "    <tr>\n",
              "      <th>2</th>\n",
              "      <td>feed</td>\n",
              "      <td>starve</td>\n",
              "      <td>1.49</td>\n",
              "      <td>0.15</td>\n",
              "      <td>0.222222</td>\n",
              "      <td>0.125000</td>\n",
              "      <td>1.178655</td>\n",
              "      <td>0.333333</td>\n",
              "      <td>0.200000</td>\n",
              "      <td>1.648659</td>\n",
              "      <td>0.464113</td>\n",
              "      <td>0.312260</td>\n",
              "    </tr>\n",
              "    <tr>\n",
              "      <th>3</th>\n",
              "      <td>shine</td>\n",
              "      <td>polish</td>\n",
              "      <td>7.80</td>\n",
              "      <td>0.78</td>\n",
              "      <td>0.250000</td>\n",
              "      <td>0.142857</td>\n",
              "      <td>1.312186</td>\n",
              "      <td>1.000000</td>\n",
              "      <td>1.000000</td>\n",
              "      <td>3.258097</td>\n",
              "      <td>0.437054</td>\n",
              "      <td>0.059131</td>\n",
              "    </tr>\n",
              "    <tr>\n",
              "      <th>4</th>\n",
              "      <td>calculate</td>\n",
              "      <td>add</td>\n",
              "      <td>5.98</td>\n",
              "      <td>0.60</td>\n",
              "      <td>0.222222</td>\n",
              "      <td>0.125000</td>\n",
              "      <td>1.178655</td>\n",
              "      <td>0.857143</td>\n",
              "      <td>0.500000</td>\n",
              "      <td>2.564949</td>\n",
              "      <td>0.254452</td>\n",
              "      <td>0.152029</td>\n",
              "    </tr>\n",
              "    <tr>\n",
              "      <th>...</th>\n",
              "      <td>...</td>\n",
              "      <td>...</td>\n",
              "      <td>...</td>\n",
              "      <td>...</td>\n",
              "      <td>...</td>\n",
              "      <td>...</td>\n",
              "      <td>...</td>\n",
              "      <td>...</td>\n",
              "      <td>...</td>\n",
              "      <td>...</td>\n",
              "      <td>...</td>\n",
              "      <td>...</td>\n",
              "    </tr>\n",
              "    <tr>\n",
              "      <th>3495</th>\n",
              "      <td>impose</td>\n",
              "      <td>cheat</td>\n",
              "      <td>1.16</td>\n",
              "      <td>0.12</td>\n",
              "      <td>0.181818</td>\n",
              "      <td>0.100000</td>\n",
              "      <td>0.955511</td>\n",
              "      <td>0.400000</td>\n",
              "      <td>0.142857</td>\n",
              "      <td>1.312186</td>\n",
              "      <td>0.228921</td>\n",
              "      <td>0.122216</td>\n",
              "    </tr>\n",
              "    <tr>\n",
              "      <th>3496</th>\n",
              "      <td>rebel</td>\n",
              "      <td>protest</td>\n",
              "      <td>7.64</td>\n",
              "      <td>0.77</td>\n",
              "      <td>0.166667</td>\n",
              "      <td>0.090909</td>\n",
              "      <td>0.860201</td>\n",
              "      <td>0.933333</td>\n",
              "      <td>0.500000</td>\n",
              "      <td>2.564949</td>\n",
              "      <td>0.192815</td>\n",
              "      <td>0.278167</td>\n",
              "    </tr>\n",
              "    <tr>\n",
              "      <th>3497</th>\n",
              "      <td>collaborate</td>\n",
              "      <td>conspire</td>\n",
              "      <td>4.23</td>\n",
              "      <td>0.42</td>\n",
              "      <td>0.250000</td>\n",
              "      <td>0.142857</td>\n",
              "      <td>1.312186</td>\n",
              "      <td>0.285714</td>\n",
              "      <td>0.166667</td>\n",
              "      <td>1.466337</td>\n",
              "      <td>0.219344</td>\n",
              "      <td>0.325587</td>\n",
              "    </tr>\n",
              "    <tr>\n",
              "      <th>3498</th>\n",
              "      <td>conspire</td>\n",
              "      <td>protest</td>\n",
              "      <td>1.83</td>\n",
              "      <td>0.18</td>\n",
              "      <td>0.250000</td>\n",
              "      <td>0.142857</td>\n",
              "      <td>1.312186</td>\n",
              "      <td>0.285714</td>\n",
              "      <td>0.166667</td>\n",
              "      <td>1.466337</td>\n",
              "      <td>0.105011</td>\n",
              "      <td>-0.024572</td>\n",
              "    </tr>\n",
              "    <tr>\n",
              "      <th>3499</th>\n",
              "      <td>protest</td>\n",
              "      <td>release</td>\n",
              "      <td>1.16</td>\n",
              "      <td>0.12</td>\n",
              "      <td>0.400000</td>\n",
              "      <td>0.250000</td>\n",
              "      <td>1.871802</td>\n",
              "      <td>0.400000</td>\n",
              "      <td>0.250000</td>\n",
              "      <td>1.871802</td>\n",
              "      <td>0.067279</td>\n",
              "      <td>0.322197</td>\n",
              "    </tr>\n",
              "  </tbody>\n",
              "</table>\n",
              "<p>3500 rows × 12 columns</p>\n",
              "</div>"
            ],
            "text/plain": [
              "           verb_1    verb_2  Similarity  ...  lch_max_sim  word2vec_sim  glove_sim\n",
              "0            take    remove        6.81  ...     3.258097      0.293123   0.356702\n",
              "1            walk     trail        4.81  ...     2.159484      0.246943   0.351702\n",
              "2            feed    starve        1.49  ...     1.648659      0.464113   0.312260\n",
              "3           shine    polish        7.80  ...     3.258097      0.437054   0.059131\n",
              "4       calculate       add        5.98  ...     2.564949      0.254452   0.152029\n",
              "...           ...       ...         ...  ...          ...           ...        ...\n",
              "3495       impose     cheat        1.16  ...     1.312186      0.228921   0.122216\n",
              "3496        rebel   protest        7.64  ...     2.564949      0.192815   0.278167\n",
              "3497  collaborate  conspire        4.23  ...     1.466337      0.219344   0.325587\n",
              "3498     conspire   protest        1.83  ...     1.466337      0.105011  -0.024572\n",
              "3499      protest   release        1.16  ...     1.871802      0.067279   0.322197\n",
              "\n",
              "[3500 rows x 12 columns]"
            ]
          },
          "metadata": {
            "tags": []
          },
          "execution_count": 16
        }
      ]
    },
    {
      "cell_type": "code",
      "metadata": {
        "id": "QRkL3CatzqgT"
      },
      "source": [
        "word1 = 'Integrate'\r\n",
        "word2 = 'arrange'"
      ],
      "execution_count": null,
      "outputs": []
    },
    {
      "cell_type": "code",
      "metadata": {
        "id": "wChtY18jQBAp"
      },
      "source": [
        "synset1 = wn.synsets(word1,pos='v')\r\n",
        "synset2 = wn.synsets(word2,pos='v')"
      ],
      "execution_count": null,
      "outputs": []
    },
    {
      "cell_type": "code",
      "metadata": {
        "id": "ScQqnFNdRFcF"
      },
      "source": [
        "sim = []\r\n",
        "for syn1 in synset1:\r\n",
        "    for syn2 in synset2:\r\n",
        "        sim.append(syn1.wup_similarity(syn2))                       \r\n",
        "    wup_max_sim = max(sim)"
      ],
      "execution_count": null,
      "outputs": []
    },
    {
      "cell_type": "code",
      "metadata": {
        "colab": {
          "base_uri": "https://localhost:8080/"
        },
        "id": "vemt7f8gRNbG",
        "outputId": "380a1b74-48a8-4513-aa62-edef1490f5ea"
      },
      "source": [
        "wup_max_sim"
      ],
      "execution_count": null,
      "outputs": [
        {
          "output_type": "execute_result",
          "data": {
            "text/plain": [
              "0.4"
            ]
          },
          "metadata": {
            "tags": []
          },
          "execution_count": 24
        }
      ]
    },
    {
      "cell_type": "code",
      "metadata": {
        "id": "hnNh1fYJRZ8h"
      },
      "source": [
        ""
      ],
      "execution_count": null,
      "outputs": []
    }
  ]
}